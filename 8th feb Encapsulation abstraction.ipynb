{
 "cells": [
  {
   "cell_type": "markdown",
   "id": "52a10997-be9a-49f3-8752-b134e2b844c0",
   "metadata": {},
   "source": [
    "## Q1. What is Abstraction in OOps? Explain with an example."
   ]
  },
  {
   "cell_type": "markdown",
   "id": "dc2785fe-79ba-42e7-9ab5-bd69e5aafaff",
   "metadata": {},
   "source": [
    "Abstraction in Object-Oriented Programming (OOP) refers to the concept of hiding the implementation details of an object and presenting only relevant information to the outside world.\n",
    "An abstract class can be considered as a blueprint for other classes.\n"
   ]
  },
  {
   "cell_type": "code",
   "execution_count": 5,
   "id": "22c589c5-2cec-468a-8e8c-163cefda904d",
   "metadata": {},
   "outputs": [
    {
     "name": "stdout",
     "output_type": "stream",
     "text": [
      "I have 3 sides\n",
      "I have 4 sides\n",
      "I have 5 sides\n",
      "I have 6 sides\n"
     ]
    }
   ],
   "source": [
    "# Python program showing\n",
    "# abstract base class work\n",
    "\n",
    "from abc import ABC, abstractmethod\n",
    "\n",
    "class Polygon(ABC):\n",
    "\n",
    "\t@abstractmethod\n",
    "\tdef noofsides(self):\n",
    "\t\tpass\n",
    "\n",
    "class Triangle(Polygon):\n",
    "\n",
    "\t# overriding abstract method\n",
    "\tdef noofsides(self):\n",
    "\t\tprint(\"I have 3 sides\")\n",
    "\n",
    "class Pentagon(Polygon):\n",
    "\n",
    "\t# overriding abstract method\n",
    "\tdef noofsides(self):\n",
    "\t\tprint(\"I have 5 sides\")\n",
    "\n",
    "class Hexagon(Polygon):\n",
    "\n",
    "\t# overriding abstract method\n",
    "\tdef noofsides(self):\n",
    "\t\tprint(\"I have 6 sides\")\n",
    "\n",
    "class Quadrilateral(Polygon):\n",
    "\n",
    "\t# overriding abstract method\n",
    "\tdef noofsides(self):\n",
    "\t\tprint(\"I have 4 sides\")\n",
    "\n",
    "# Driver code\n",
    "R = Triangle()\n",
    "R.noofsides()\n",
    "\n",
    "K = Quadrilateral()\n",
    "K.noofsides()\n",
    "\n",
    "R = Pentagon()\n",
    "R.noofsides()\n",
    "\n",
    "K = Hexagon()\n",
    "K.noofsides()\n",
    "   \n",
    "    "
   ]
  },
  {
   "cell_type": "markdown",
   "id": "3c5f20fc-39a4-43f0-8980-9220850eec28",
   "metadata": {},
   "source": [
    "## Q2. Differentiate between Abstraction and Encapsulation. Explain with an example."
   ]
  },
  {
   "cell_type": "markdown",
   "id": "afcede09-8604-4292-b0b8-94cea67c0bbe",
   "metadata": {},
   "source": [
    "Abstraction hides the unnecessary data but Encapsulation hides the code and data into a single unit to protect it from outside world."
   ]
  },
  {
   "cell_type": "code",
   "execution_count": null,
   "id": "2f25e55c-1491-47b5-9a75-6d531406570a",
   "metadata": {},
   "outputs": [],
   "source": []
  }
 ],
 "metadata": {
  "kernelspec": {
   "display_name": "Python 3 (ipykernel)",
   "language": "python",
   "name": "python3"
  },
  "language_info": {
   "codemirror_mode": {
    "name": "ipython",
    "version": 3
   },
   "file_extension": ".py",
   "mimetype": "text/x-python",
   "name": "python",
   "nbconvert_exporter": "python",
   "pygments_lexer": "ipython3",
   "version": "3.10.8"
  }
 },
 "nbformat": 4,
 "nbformat_minor": 5
}
