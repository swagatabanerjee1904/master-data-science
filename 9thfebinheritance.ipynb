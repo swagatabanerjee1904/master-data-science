{
 "cells": [
  {
   "cell_type": "markdown",
   "id": "f0a5c86e-866a-4fd4-ab59-a96984fb96e9",
   "metadata": {},
   "source": [
    "## Q1, Create a vehicle class with an init method having instance variables as name_of_vehicle, max_speed and average_of_vehicle."
   ]
  },
  {
   "cell_type": "code",
   "execution_count": 18,
   "id": "5144ae9c-b297-4ff0-b037-c210dffda18b",
   "metadata": {},
   "outputs": [],
   "source": [
    "class vehicle:\n",
    "    def __init__(self,name_of_vehicle,max_speed,average_of_vehicle):\n",
    "        self.name_of_vehicle=name_of_vehicle\n",
    "        self.max_speed=max_speed\n",
    "        self.average_of_vehicle=average_of_vehicle\n",
    "   # def return_vehicle(self):\n",
    "    #    return self.name_of_vehicle,self.max_speed,self.average_of_vehicle"
   ]
  },
  {
   "cell_type": "markdown",
   "id": "b188b5b2-c2c1-4af0-b3fa-df2db88f9a5e",
   "metadata": {},
   "source": [
    "## Q2. Create a child class car from the vehicle class created in Que 1, which will inherit the vehicle class.\n",
    "## Create a method named seating_capacity which takes capacity as an argument and returns the name ofthe vehicle and its seating capacity."
   ]
  },
  {
   "cell_type": "code",
   "execution_count": 22,
   "id": "e59a2d31-3145-4949-8dfa-094af14c4a58",
   "metadata": {},
   "outputs": [],
   "source": [
    "class car(vehicle):\n",
    "    def capacity(self,seating_capacity):\n",
    "        self.seating_capacity=seating_capacity\n",
    "        return self.name_of_vehicle,self.seating_capacity"
   ]
  },
  {
   "cell_type": "code",
   "execution_count": 26,
   "id": "69bd5af4-4b11-4d88-b2d7-d480a1194f44",
   "metadata": {},
   "outputs": [],
   "source": [
    "c1=car(\"Spresso\",200,400)"
   ]
  },
  {
   "cell_type": "code",
   "execution_count": 27,
   "id": "9d424463-920b-42ec-b212-d69403b42628",
   "metadata": {},
   "outputs": [
    {
     "data": {
      "text/plain": [
       "('Spresso', 6)"
      ]
     },
     "execution_count": 27,
     "metadata": {},
     "output_type": "execute_result"
    }
   ],
   "source": [
    "c1.capacity(6)"
   ]
  },
  {
   "cell_type": "markdown",
   "id": "7a33478f-48c7-4791-ba0b-6400beb6bf75",
   "metadata": {},
   "source": [
    "## Q3. What is multiple inheritance? Write a python code to demonstrate multiple inheritance."
   ]
  },
  {
   "cell_type": "markdown",
   "id": "7ede8910-a28b-40fd-b471-a99f079a59a0",
   "metadata": {},
   "source": [
    "Multiple inheritance is a feature of object-oriented programming (OOP) languages where a class can inherit properties and methods from more than one parent class. In other words, a class can inherit from multiple classes, thus inheriting the attributes and behaviors of all its parent classes."
   ]
  },
  {
   "cell_type": "code",
   "execution_count": 28,
   "id": "2825b9b7-36a0-4efc-b5dd-5895841500e3",
   "metadata": {},
   "outputs": [
    {
     "name": "stdout",
     "output_type": "stream",
     "text": [
      "Parent1 method1\n",
      "Parent2 method2\n"
     ]
    }
   ],
   "source": [
    "class Parent1:\n",
    "    def method1(self):\n",
    "        print(\"Parent1 method1\")\n",
    "\n",
    "class Parent2:\n",
    "    def method2(self):\n",
    "        print(\"Parent2 method2\")\n",
    "\n",
    "class Child(Parent1, Parent2):\n",
    "    pass\n",
    "\n",
    "c = Child()\n",
    "c.method1()\n",
    "c.method2()"
   ]
  },
  {
   "cell_type": "markdown",
   "id": "e6adda87-807f-447c-848c-9d5e80dad53a",
   "metadata": {},
   "source": [
    "## Q4. What are getter and setter in python? Create a class and create a getter and a setter method in thisclass."
   ]
  },
  {
   "cell_type": "markdown",
   "id": "c976ec5e-8427-432d-aba1-c3e21658e598",
   "metadata": {},
   "source": [
    "In object-oriented programming, getters and setters are methods used to retrieve and update the values of object properties, respectively. The use of getters and setters is a common technique for encapsulating object data and ensuring that it can be accessed and modified in a controlled and predictable manner."
   ]
  },
  {
   "cell_type": "code",
   "execution_count": 29,
   "id": "69f43568-14f4-4671-842e-893e69b2942e",
   "metadata": {},
   "outputs": [],
   "source": [
    "class company:\n",
    "    def __init__(self,salary=0):\n",
    "        self.salary=salary\n",
    "    # getter method\n",
    "    def get_salary(self):\n",
    "        return self.salary\n",
    "      \n",
    "    # setter method\n",
    "    def set_salary(self, x):\n",
    "        self.salary = x\n",
    "riya=company()      \n",
    "    "
   ]
  },
  {
   "cell_type": "code",
   "execution_count": 30,
   "id": "baf9421d-c224-499f-8219-2010c35cf91c",
   "metadata": {},
   "outputs": [],
   "source": [
    "riya.set_salary(4000000)"
   ]
  },
  {
   "cell_type": "code",
   "execution_count": 32,
   "id": "0f42d16f-e944-4b91-91ed-cda2ff3fd82e",
   "metadata": {},
   "outputs": [
    {
     "data": {
      "text/plain": [
       "4000000"
      ]
     },
     "execution_count": 32,
     "metadata": {},
     "output_type": "execute_result"
    }
   ],
   "source": [
    "riya.get_salary()"
   ]
  },
  {
   "cell_type": "markdown",
   "id": "794759ad-a2f2-4c78-abef-6d263bd4d276",
   "metadata": {},
   "source": [
    "## Q5.What is method overriding in python? Write a python code to demonstrate method overriding."
   ]
  },
  {
   "cell_type": "markdown",
   "id": "5143bf21-9c3b-4bf9-a174-fafefef4fb2f",
   "metadata": {},
   "source": [
    "Method overriding is that which allows a sub class or child class to provide a specific implementation of a method that is already provided by one of its super-classes or parent classes.When a method in a subclass has the same name, same parameters or signature and same return type(or sub-type) as a method in its super-class, then the method in the subclass is said to override the method in the super-class."
   ]
  },
  {
   "cell_type": "code",
   "execution_count": 36,
   "id": "98a82884-6a59-477d-b470-07caf58e48e4",
   "metadata": {},
   "outputs": [
    {
     "ename": "IndentationError",
     "evalue": "unindent does not match any outer indentation level (<tokenize>, line 10)",
     "output_type": "error",
     "traceback": [
      "\u001b[0;36m  File \u001b[0;32m<tokenize>:10\u001b[0;36m\u001b[0m\n\u001b[0;31m    def show(self):\u001b[0m\n\u001b[0m    ^\u001b[0m\n\u001b[0;31mIndentationError\u001b[0m\u001b[0;31m:\u001b[0m unindent does not match any outer indentation level\n"
     ]
    }
   ],
   "source": [
    "class department:\n",
    "    def __init__(self):\n",
    "        self.subject=\"maths\"\n",
    "        #return self.subject\n",
    "    def show(self):\n",
    "        return self.subject\n",
    "class room(department):\n",
    "     def __init__(self):\n",
    "        self.subject= \"chem\"\n",
    "    \n",
    "     def show(self):\n",
    "        return self.subject   "
   ]
  },
  {
   "cell_type": "code",
   "execution_count": 34,
   "id": "61050550-7687-457c-b68e-ebfb60387863",
   "metadata": {},
   "outputs": [
    {
     "ename": "TypeError",
     "evalue": "__init__() should return None, not 'str'",
     "output_type": "error",
     "traceback": [
      "\u001b[0;31m---------------------------------------------------------------------------\u001b[0m",
      "\u001b[0;31mTypeError\u001b[0m                                 Traceback (most recent call last)",
      "Cell \u001b[0;32mIn[34], line 1\u001b[0m\n\u001b[0;32m----> 1\u001b[0m swagata\u001b[38;5;241m=\u001b[39m\u001b[43mdepartment\u001b[49m\u001b[43m(\u001b[49m\u001b[43m)\u001b[49m\n",
      "\u001b[0;31mTypeError\u001b[0m: __init__() should return None, not 'str'"
     ]
    }
   ],
   "source": [
    "swagata=department()"
   ]
  },
  {
   "cell_type": "code",
   "execution_count": null,
   "id": "80c59edd-8564-485d-9836-4a24682a2e9f",
   "metadata": {},
   "outputs": [],
   "source": []
  }
 ],
 "metadata": {
  "kernelspec": {
   "display_name": "Python 3 (ipykernel)",
   "language": "python",
   "name": "python3"
  },
  "language_info": {
   "codemirror_mode": {
    "name": "ipython",
    "version": 3
   },
   "file_extension": ".py",
   "mimetype": "text/x-python",
   "name": "python",
   "nbconvert_exporter": "python",
   "pygments_lexer": "ipython3",
   "version": "3.10.8"
  }
 },
 "nbformat": 4,
 "nbformat_minor": 5
}
