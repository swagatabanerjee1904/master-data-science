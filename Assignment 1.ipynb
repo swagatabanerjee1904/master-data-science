{
 "cells": [
  {
   "cell_type": "code",
   "execution_count": 1,
   "id": "7a8d158b-e501-4b70-b485-b21b9e2a648d",
   "metadata": {},
   "outputs": [],
   "source": [
    "#assignment 1"
   ]
  },
  {
   "cell_type": "code",
   "execution_count": 2,
   "id": "abb2fa1d-7fc6-4bed-a175-af00169ff605",
   "metadata": {},
   "outputs": [
    {
     "name": "stdout",
     "output_type": "stream",
     "text": [
      "1\n",
      "2\n",
      "3\n",
      "7\n",
      "8\n"
     ]
    }
   ],
   "source": [
    "# Q1.Explain with an example each when to use a for loop and a while loop.\n",
    "\n",
    "#ans:\n",
    "\n",
    "l=[1,2,3,7,8]\n",
    "for i in l:\n",
    "    print(i)"
   ]
  },
  {
   "cell_type": "code",
   "execution_count": 5,
   "id": "30371f62-2f50-44ff-bf81-f3ebfe14d105",
   "metadata": {},
   "outputs": [
    {
     "name": "stdout",
     "output_type": "stream",
     "text": [
      "1\n",
      "3\n",
      "5\n",
      "7\n"
     ]
    }
   ],
   "source": [
    "#while loop\n",
    "a=1\n",
    "while a<=7:\n",
    "    print(a)\n",
    "    a=a+2"
   ]
  },
  {
   "cell_type": "code",
   "execution_count": 8,
   "id": "43b61bcc-d342-49d5-9b27-876effa4a80c",
   "metadata": {},
   "outputs": [
    {
     "name": "stdout",
     "output_type": "stream",
     "text": [
      "55\n"
     ]
    }
   ],
   "source": [
    "#Q2. Write a python program to print the sum and product of the first 10 natural numbers using for\n",
    "#and while loop.\n",
    "\n",
    "sum=0\n",
    "for i in range(1,11):\n",
    "    sum=sum+i\n",
    "print(sum)"
   ]
  },
  {
   "cell_type": "markdown",
   "id": "5fd5aaa8-d59b-42c7-b161-2cade9fc3526",
   "metadata": {},
   "source": [
    "for loop product"
   ]
  },
  {
   "cell_type": "code",
   "execution_count": 1,
   "id": "53ceefdb-4ead-46c6-8ad4-219a942026c9",
   "metadata": {},
   "outputs": [
    {
     "name": "stdout",
     "output_type": "stream",
     "text": [
      "3628800\n"
     ]
    }
   ],
   "source": [
    "product=1\n",
    "for i in range(1,11):\n",
    "    product=product*i\n",
    "print(product)"
   ]
  },
  {
   "cell_type": "code",
   "execution_count": 2,
   "id": "576f58d0-49c6-4e32-8a36-12cf02ede077",
   "metadata": {},
   "outputs": [
    {
     "name": "stdout",
     "output_type": "stream",
     "text": [
      "55\n"
     ]
    }
   ],
   "source": [
    "#while loop\n",
    "\n",
    "sum=0\n",
    "counter=1\n",
    "while counter<=10:\n",
    "    sum=sum+counter\n",
    "    counter=counter+1\n",
    "print(sum)    \n",
    "    "
   ]
  },
  {
   "cell_type": "code",
   "execution_count": 3,
   "id": "0bde62e1-b570-4a5a-8b28-fc771540c270",
   "metadata": {},
   "outputs": [
    {
     "name": "stdout",
     "output_type": "stream",
     "text": [
      "3628800\n"
     ]
    }
   ],
   "source": [
    "product=1\n",
    "counter=1\n",
    "while counter<=10:\n",
    "    product=product*counter\n",
    "    counter=counter+1\n",
    "print(product) "
   ]
  },
  {
   "cell_type": "markdown",
   "id": "56bd903d-d14c-4d1a-9eb6-4b1185d729d1",
   "metadata": {},
   "source": [
    "Q3. Create a python program to compute the electricity bill for a household.\n",
    "The per-unit charges in rupees are as follows: For the first 100 units, the user will be charged Rs. 4.5 per\n",
    "unit, for the next 100 units, the user will be charged Rs. 6 per unit, and for the next 100 units, the user will\n",
    "be charged Rs. 10 per unit, After 300 units and above the user will be charged Rs. 20 per unit.\n",
    "You are required to take the units of electricity consumed in a month from the user as input.\n",
    "Your program must pass this test case: when the unit of electricity consumed by the user in a month is\n",
    "310, the total electricity bill should be 2250."
   ]
  },
  {
   "cell_type": "code",
   "execution_count": 19,
   "id": "8001b494-2496-4162-9ef8-753cd8d66374",
   "metadata": {},
   "outputs": [
    {
     "name": "stdin",
     "output_type": "stream",
     "text": [
      " 310\n"
     ]
    },
    {
     "name": "stdout",
     "output_type": "stream",
     "text": [
      "2250\n"
     ]
    }
   ],
   "source": [
    "unit=int(input())\n",
    "bill=1\n",
    "if unit>=1 and unit<=100:\n",
    "    #for unit in (1,101):\n",
    "    bill=unit*4.5\n",
    "    print(bill1)    \n",
    "elif (unit>100 and unit<=200):\n",
    "    bill=450+(unit-100)*6\n",
    "#rint(bill)    \n",
    "elif (unit>200 and unit<=300):\n",
    "    bill=450+600+(unit-200)*10\n",
    "#rint(bill3)    \n",
    "elif (unit>300):\n",
    "    bill=450+600+1000+(unit-300)*20\n",
    "print(bill) \n",
    "    "
   ]
  },
  {
   "cell_type": "markdown",
   "id": "63803abe-55ca-409b-9e03-021c7b2118b7",
   "metadata": {},
   "source": [
    "Q4. Create a list of numbers from 1 to 100. Use for loop and while loop to calculate the cube of each\n",
    "number and if the cube of that number is divisible by 4 or 5 then append that number in a list and print\n",
    "that list."
   ]
  },
  {
   "cell_type": "code",
   "execution_count": 27,
   "id": "7b68ff33-c7a4-4da9-bea6-41c3efd2f3c9",
   "metadata": {},
   "outputs": [
    {
     "name": "stdout",
     "output_type": "stream",
     "text": [
      "[8, 64, 125, 216, 512, 1000, 1728, 2744, 3375, 4096, 5832, 8000, 10648, 13824, 15625, 17576, 21952, 27000, 32768, 39304, 42875, 46656, 54872, 64000, 74088, 85184, 91125, 97336, 110592, 125000, 140608, 157464, 166375, 175616, 195112, 216000, 238328, 262144, 274625, 287496, 314432, 343000, 373248, 405224, 421875, 438976, 474552, 512000, 551368, 592704, 614125, 636056, 681472, 729000, 778688, 830584, 857375, 884736, 941192, 1000000]\n"
     ]
    }
   ],
   "source": [
    "l=list(range(1,101))\n",
    "#cube=1\n",
    "#maximum = input(\"Enter Max: \")\n",
    "#r = range(1, maximum)\n",
    "cube = 101*101*101\n",
    "my_str=[]\n",
    "for j in l:\n",
    "    if j * j * j <= cube:\n",
    "        the=j*j*j\n",
    "      #print  (j * j * j)\n",
    "    if (the%4==0 or the%5==0):\n",
    "        my_str.append(the)\n",
    "print(my_str)    \n",
    "    \n",
    "    \n",
    "    "
   ]
  },
  {
   "cell_type": "markdown",
   "id": "3f535d39-bb56-4e02-bf10-e7e2727168fc",
   "metadata": {},
   "source": [
    "Q5. Write a program to filter count vowels in the below-given string.\n",
    "string = \"I want to become a data scientist\""
   ]
  },
  {
   "cell_type": "code",
   "execution_count": null,
   "id": "3aaeac52-809d-46ff-b6ce-95883eb156a2",
   "metadata": {},
   "outputs": [],
   "source": [
    "string = \"I want to become a data scientist\"\n"
   ]
  }
 ],
 "metadata": {
  "kernelspec": {
   "display_name": "Python 3 (ipykernel)",
   "language": "python",
   "name": "python3"
  },
  "language_info": {
   "codemirror_mode": {
    "name": "ipython",
    "version": 3
   },
   "file_extension": ".py",
   "mimetype": "text/x-python",
   "name": "python",
   "nbconvert_exporter": "python",
   "pygments_lexer": "ipython3",
   "version": "3.10.8"
  }
 },
 "nbformat": 4,
 "nbformat_minor": 5
}
