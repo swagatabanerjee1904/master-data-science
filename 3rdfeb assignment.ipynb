{
 "cells": [
  {
   "cell_type": "markdown",
   "id": "0e729303-ae37-406a-9e8a-c7ba569e29b4",
   "metadata": {},
   "source": [
    "Q1. Which keyword is used to create a function? Create a function to return a list of odd numbers in the\n",
    "range of 1 to 25."
   ]
  },
  {
   "cell_type": "markdown",
   "id": "ba611047-2c91-407b-9458-4a4ce34e254d",
   "metadata": {},
   "source": [
    "def keyword is used to create a function"
   ]
  },
  {
   "cell_type": "code",
   "execution_count": 15,
   "id": "4f50df96-bfc2-4845-86df-e835adda1873",
   "metadata": {},
   "outputs": [],
   "source": [
    "def odd():\n",
    "    l=[] \n",
    "    for i in range (1,25):\n",
    "            if i%2!=0:\n",
    "                l.append(i)\n",
    "    return l      \n",
    "        "
   ]
  },
  {
   "cell_type": "code",
   "execution_count": 16,
   "id": "a73d88f8-714f-4ad8-8da4-6030d0907d89",
   "metadata": {},
   "outputs": [
    {
     "data": {
      "text/plain": [
       "[1, 3, 5, 7, 9, 11, 13, 15, 17, 19, 21, 23]"
      ]
     },
     "execution_count": 16,
     "metadata": {},
     "output_type": "execute_result"
    }
   ],
   "source": [
    "odd()"
   ]
  },
  {
   "cell_type": "markdown",
   "id": "0532b1ce-c620-4cf6-890f-2c9a81f60cdb",
   "metadata": {},
   "source": [
    "Q2. Why *args and **kwargs is used in some functions? Create a function each for *args and **kwargs\n",
    "to demonstrate their use."
   ]
  },
  {
   "cell_type": "markdown",
   "id": "ae0e49a7-2d40-48e8-b81e-1ec35da68083",
   "metadata": {},
   "source": [
    "*args allow us to give multiple inputs and it gives output in the form of tuple.\n",
    "**kwargs gives output in the form of dictionary"
   ]
  },
  {
   "cell_type": "code",
   "execution_count": 1,
   "id": "1850bec6-72e2-406f-bc29-40249a71d955",
   "metadata": {},
   "outputs": [],
   "source": [
    "def swagata(*args,a):\n",
    "    return swagata\n",
    "    "
   ]
  },
  {
   "cell_type": "code",
   "execution_count": 2,
   "id": "9298e671-59e7-49d3-823b-b8b52e9c631e",
   "metadata": {},
   "outputs": [
    {
     "data": {
      "text/plain": [
       "<function __main__.swagata(*args, a)>"
      ]
     },
     "execution_count": 2,
     "metadata": {},
     "output_type": "execute_result"
    }
   ],
   "source": [
    "swagata(1,2,3,4,5,6,a=9)"
   ]
  },
  {
   "cell_type": "code",
   "execution_count": 3,
   "id": "2d515afd-676f-4382-830c-a53255334c6f",
   "metadata": {},
   "outputs": [],
   "source": [
    "def sw(**kwargs):\n",
    "    return sw"
   ]
  },
  {
   "cell_type": "code",
   "execution_count": 4,
   "id": "ba528a19-4881-48a7-8aec-b53d57bcce7e",
   "metadata": {},
   "outputs": [
    {
     "data": {
      "text/plain": [
       "<function __main__.sw(**kwargs)>"
      ]
     },
     "execution_count": 4,
     "metadata": {},
     "output_type": "execute_result"
    }
   ],
   "source": [
    "sw()"
   ]
  },
  {
   "cell_type": "markdown",
   "id": "487b3ca2-7a09-4927-9bff-4046b27c7d17",
   "metadata": {},
   "source": [
    "Q4. What is a generator function in python? Why yield keyword is used? Give an example of a generator\n",
    "function."
   ]
  },
  {
   "cell_type": "markdown",
   "id": "9f4f5a08-2d43-43da-a491-95a57d6bf8cf",
   "metadata": {},
   "source": [
    "Answer:\n",
    "Generator function helps to generate and iteration.\n",
    "\n",
    "Yield is a special keyword which helps us to create a generator function.\n"
   ]
  },
  {
   "cell_type": "code",
   "execution_count": 11,
   "id": "d68b5017-f7a0-4387-a6bd-70cd2ad243db",
   "metadata": {},
   "outputs": [
    {
     "name": "stdout",
     "output_type": "stream",
     "text": [
      "0\n",
      "1\n",
      "1\n",
      "2\n",
      "3\n",
      "5\n",
      "8\n",
      "13\n",
      "21\n",
      "34\n"
     ]
    }
   ],
   "source": [
    "def fib0(n):\n",
    "    a,b=0,1\n",
    "    for i in range(n):\n",
    "        yield a\n",
    "        a,b=b,a+b\n",
    "for i in fib0(10):\n",
    "    print(i)"
   ]
  },
  {
   "cell_type": "markdown",
   "id": "8895862c-56b1-4642-9989-1176010ef887",
   "metadata": {},
   "source": [
    "Q5. Create a generator function for prime numbers less than 1000. Use the next() method to print the\n",
    "first 20 prime numbers."
   ]
  },
  {
   "cell_type": "code",
   "execution_count": null,
   "id": "9ca21f5c-ded8-49b5-bd4b-e78d97bfb645",
   "metadata": {},
   "outputs": [],
   "source": [
    "def prime():\n",
    "    "
   ]
  },
  {
   "cell_type": "markdown",
   "id": "5d7d9766-92c8-4d20-bbb3-554e02edb7d7",
   "metadata": {},
   "source": [
    "Q6. Write a python program to print the first 10 Fibonacci numbers using a while loop."
   ]
  },
  {
   "cell_type": "code",
   "execution_count": 6,
   "id": "54199814-11f2-4f71-9f19-6cb4f4039a5f",
   "metadata": {},
   "outputs": [
    {
     "name": "stdout",
     "output_type": "stream",
     "text": [
      "0\n",
      "1\n",
      "1\n",
      "2\n",
      "3\n",
      "5\n",
      "8\n",
      "13\n",
      "21\n",
      "34\n"
     ]
    }
   ],
   "source": [
    "def fib():\n",
    "    a,b=0,1\n",
    "    while True:\n",
    "        yield a\n",
    "        a,b=b,a+b\n",
    "fib=fib()\n",
    "for i in range(10):\n",
    "    print(next(fib))   "
   ]
  },
  {
   "cell_type": "markdown",
   "id": "ec3e02b4-c0c4-49e3-9ee9-1906a196fe74",
   "metadata": {},
   "source": [
    "Q3. What is an iterator in python? Name the method used to initialise the iterator object and the method\n",
    "used for iteration. Use these methods to print the first five elements of the given list [2, 4, 6, 8, 10, 12, 14,\n",
    "16, 18, 20]."
   ]
  },
  {
   "cell_type": "markdown",
   "id": "c37ed511-6e5f-4333-b934-f952e48a143a",
   "metadata": {},
   "source": [
    "In Python, an iterator is an object that allows you to iterate over collections of data, such as lists, tuples, dictionaries, and sets."
   ]
  },
  {
   "cell_type": "markdown",
   "id": "0296bb17-1b56-4239-898a-d1f2fa1d9ea0",
   "metadata": {},
   "source": [
    "iter() is used to initialise the iterator object and the method used for iteration is next()."
   ]
  },
  {
   "cell_type": "code",
   "execution_count": 12,
   "id": "b216a4e6-7b76-41f7-ad42-c64b70ad6ef9",
   "metadata": {},
   "outputs": [
    {
     "name": "stdout",
     "output_type": "stream",
     "text": [
      "2\n",
      "4\n",
      "6\n",
      "8\n",
      "10\n"
     ]
    }
   ],
   "source": [
    "l=[2, 4, 6, 8, 10, 12, 14, 16, 18, 20]\n",
    "count=0\n",
    "for i in l:\n",
    "    if count<5:\n",
    "        print(i)\n",
    "        count=count+1"
   ]
  },
  {
   "cell_type": "markdown",
   "id": "a1739b1d-8834-4a16-99b7-24f2a520e993",
   "metadata": {},
   "source": [
    "Q5. Create a generator function for prime numbers less than 1000. Use the next() method to print the\n",
    "first 20 prime numbers."
   ]
  },
  {
   "cell_type": "code",
   "execution_count": 1,
   "id": "b4eae8f3-7a05-4849-b489-46f31180ce0b",
   "metadata": {},
   "outputs": [
    {
     "name": "stdout",
     "output_type": "stream",
     "text": [
      "2\n",
      "3\n",
      "5\n",
      "7\n",
      "11\n",
      "13\n",
      "17\n",
      "19\n",
      "23\n",
      "29\n",
      "31\n",
      "37\n",
      "41\n",
      "43\n",
      "47\n",
      "53\n",
      "59\n",
      "61\n",
      "67\n",
      "71\n"
     ]
    }
   ],
   "source": [
    "def primes():\n",
    "    \"\"\"Create a generator function for prime numbers less than 1000.\"\"\"\n",
    "    yield 2\n",
    "    primes_list = [2]\n",
    "    for i in range(3, 1000):\n",
    "        is_prime = True\n",
    "        for prime in primes_list:\n",
    "            if i % prime == 0:\n",
    "                is_prime = False\n",
    "                break\n",
    "        if is_prime:\n",
    "            primes_list.append(i)\n",
    "            yield i\n",
    "\n",
    "prime_gen = primes()\n",
    "# the next() method to print the first 20 prime numbers.\n",
    "for i in range(20):\n",
    "    print(next(prime_gen))"
   ]
  },
  {
   "cell_type": "markdown",
   "id": "448510ed-bcd7-4f19-a4c6-44a45049f79b",
   "metadata": {},
   "source": [
    "Q7. Write a List Comprehension to iterate through the given string: ‘pwskills’.\n",
    "Expected output: ['p', 'w', 's', 'k', 'i', 'l', 'l', 's']"
   ]
  },
  {
   "cell_type": "code",
   "execution_count": 9,
   "id": "0a282d22-a541-43c2-92d6-5bc15c1009cb",
   "metadata": {},
   "outputs": [
    {
     "data": {
      "text/plain": [
       "['p', 'w', 's', 'k', 'i', 'l', 'l', 's']"
      ]
     },
     "execution_count": 9,
     "metadata": {},
     "output_type": "execute_result"
    }
   ],
   "source": [
    "l1='pwskills'\n",
    "[i for i in l1]"
   ]
  },
  {
   "cell_type": "markdown",
   "id": "310e6061-b427-4f11-849b-c50f9405ec5d",
   "metadata": {},
   "source": [
    "Q9. Write a code to print odd numbers from 1 to 100 using list comprehension."
   ]
  },
  {
   "cell_type": "code",
   "execution_count": 7,
   "id": "8f920a89-f21d-468b-8015-01b8b7e3e338",
   "metadata": {},
   "outputs": [
    {
     "data": {
      "text/plain": [
       "[1,\n",
       " 3,\n",
       " 5,\n",
       " 7,\n",
       " 9,\n",
       " 11,\n",
       " 13,\n",
       " 15,\n",
       " 17,\n",
       " 19,\n",
       " 21,\n",
       " 23,\n",
       " 25,\n",
       " 27,\n",
       " 29,\n",
       " 31,\n",
       " 33,\n",
       " 35,\n",
       " 37,\n",
       " 39,\n",
       " 41,\n",
       " 43,\n",
       " 45,\n",
       " 47,\n",
       " 49,\n",
       " 51,\n",
       " 53,\n",
       " 55,\n",
       " 57,\n",
       " 59,\n",
       " 61,\n",
       " 63,\n",
       " 65,\n",
       " 67,\n",
       " 69,\n",
       " 71,\n",
       " 73,\n",
       " 75,\n",
       " 77,\n",
       " 79,\n",
       " 81,\n",
       " 83,\n",
       " 85,\n",
       " 87,\n",
       " 89,\n",
       " 91,\n",
       " 93,\n",
       " 95,\n",
       " 97,\n",
       " 99]"
      ]
     },
     "execution_count": 7,
     "metadata": {},
     "output_type": "execute_result"
    }
   ],
   "source": [
    "[i for i in range(1,100) if i%2!=0]"
   ]
  },
  {
   "cell_type": "markdown",
   "id": "9aa87568-cff5-4721-a6f3-a3b21bbee27c",
   "metadata": {},
   "source": [
    "Q8. Write a python program to check whether a given number is Palindrome or not using a while loop."
   ]
  },
  {
   "cell_type": "code",
   "execution_count": null,
   "id": "70fa57db-2595-42a3-9891-82ec78250652",
   "metadata": {},
   "outputs": [],
   "source": [
    "n=int(input(\"enter a number\"))\n",
    "\n",
    "# calculate reverse of number\n",
    "reverse = 0\n",
    "number = num\n",
    "while(num != 0):\n",
    "   remainder = num % 10\n",
    "   reverse = reverse * 10 + remainder\n",
    "   num = int(num / 10)\n",
    "\n",
    "# compare reverse to original number\n",
    "if(number == reverse):\n",
    "   print(number,'is a Palindrome')\n",
    "else:\n",
    "   print(number,'is not a Palindrome')\n",
    "Output:- \n",
    "            "
   ]
  }
 ],
 "metadata": {
  "kernelspec": {
   "display_name": "Python 3 (ipykernel)",
   "language": "python",
   "name": "python3"
  },
  "language_info": {
   "codemirror_mode": {
    "name": "ipython",
    "version": 3
   },
   "file_extension": ".py",
   "mimetype": "text/x-python",
   "name": "python",
   "nbconvert_exporter": "python",
   "pygments_lexer": "ipython3",
   "version": "3.10.8"
  }
 },
 "nbformat": 4,
 "nbformat_minor": 5
}
