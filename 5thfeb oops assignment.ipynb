{
 "cells": [
  {
   "cell_type": "markdown",
   "id": "4cbbcbf2-5e11-4036-bddd-99169a620cfb",
   "metadata": {
    "tags": []
   },
   "source": [
    "## Q1. Explain Class and Object with respect to Object-Oriented Programming. Give a suitable example."
   ]
  },
  {
   "cell_type": "markdown",
   "id": "c6ed7349-fe87-4559-a11d-ec4e83688155",
   "metadata": {},
   "source": [
    "class is just a classification of real world entity.Class: In object-oriented programming, a class is a blueprint or a template for creating objects (an instance of the class). It defines a set of attributes and behaviors that an object of that class will have. A class can be considered as a blueprint for the object or objects that can be created using it.\n",
    "\n",
    "\n",
    "\n",
    " An object is an instance of a class. It is a real-world entity with attributes and behaviors that are defined by the class. An object has a state and a behavior, and it is created from a class. An object is also known as an instance of a class."
   ]
  },
  {
   "cell_type": "code",
   "execution_count": 1,
   "id": "2f0ec358-06cb-4a4b-9452-632d9e63afda",
   "metadata": {},
   "outputs": [
    {
     "name": "stdout",
     "output_type": "stream",
     "text": [
      "Welcome to your post graduation course\n"
     ]
    }
   ],
   "source": [
    "class msc:\n",
    "    \n",
    "    def welcome_msg(self):\n",
    "        print(\"Welcome to your post graduation course\")\n",
    "swagata=msc()\n",
    "swagata.welcome_msg()\n",
    "        "
   ]
  },
  {
   "cell_type": "markdown",
   "id": "9694d7b9-2b62-407c-8236-8832fe0b74cf",
   "metadata": {},
   "source": [
    "## Q2. Name the four pillars of OOPs.\n",
    "\n",
    "Abstraction, Encapsulation, Inheritance,Polymorphism"
   ]
  },
  {
   "cell_type": "markdown",
   "id": "51daaf88-dcc4-40cc-93dc-5e558b3967b5",
   "metadata": {},
   "source": [
    "## Q3. Explain why the __init__() function is used. Give a suitable example."
   ]
  },
  {
   "cell_type": "markdown",
   "id": "96977ab0-295f-4222-890b-b1c31cef2881",
   "metadata": {},
   "source": [
    "For passing an object through a class we use init() function, which is also called as constructor.\n",
    "The init() function allows you to set the default values for the object's attributes, perform any initializations, and allocate any required memory when the object is created. The method takes the newly created object as its first argument (usually referred to as self), and additional arguments can be passed to initialize the object's attributes."
   ]
  },
  {
   "cell_type": "code",
   "execution_count": 6,
   "id": "b8b5543a-686a-4f92-9d31-0fec2f52debd",
   "metadata": {},
   "outputs": [
    {
     "data": {
      "text/plain": [
       "('PEKHAM', '8th March')"
      ]
     },
     "execution_count": 6,
     "metadata": {},
     "output_type": "execute_result"
    }
   ],
   "source": [
    "#example:\n",
    "\n",
    "class birthday:\n",
    "    def __init__(self,name,dob):\n",
    "        self.name=name\n",
    "        self.dob=dob\n",
    "    def return_bday(self):\n",
    "        return self.name,self.dob\n",
    "swagata=birthday( \"SWAGATA\",\"19th April\") \n",
    "pekham=birthday(\"PEKHAM\",\"8th March\")\n",
    "swagata.return_bday()\n",
    "pekham.return_bday()   "
   ]
  },
  {
   "cell_type": "code",
   "execution_count": 7,
   "id": "3172f049-ef98-4b3b-bd3d-6ab31d2c73d2",
   "metadata": {},
   "outputs": [
    {
     "data": {
      "text/plain": [
       "('SWAGATA', '19th April')"
      ]
     },
     "execution_count": 7,
     "metadata": {},
     "output_type": "execute_result"
    }
   ],
   "source": [
    "swagata.return_bday()"
   ]
  },
  {
   "cell_type": "markdown",
   "id": "da2bcc1d-1e4c-4044-b363-3e63033fd418",
   "metadata": {},
   "source": [
    "## Q4. Why self is used in OOPs?"
   ]
  },
  {
   "cell_type": "markdown",
   "id": "7b4065be-c12b-472f-b455-90955b8a1f2c",
   "metadata": {},
   "source": [
    "Ans: In object-oriented programming (OOP), self is used to refer to the instance of the object being manipulated within a method. It is a convention in Python (and some other programming languages) to use self as the first argument in an instance method to refer to the instance of the object.\n",
    "\n",
    "When a method is called on an object, the object is passed as the first argument to the method, and it can be accessed using the self reference. This allows the method to access and modify the object's attributes and perform other operations on the object.\n",
    "\n",
    "For example:"
   ]
  },
  {
   "cell_type": "code",
   "execution_count": 8,
   "id": "738536a2-a703-495c-9cfb-c8ee023e57a8",
   "metadata": {},
   "outputs": [],
   "source": [
    "class bill:\n",
    "    def __init__(self,amount,date):\n",
    "        self.amount=amount\n",
    "        self.date=date\n",
    "    def return_bill(self):\n",
    "        return self.amount,self.date"
   ]
  },
  {
   "cell_type": "code",
   "execution_count": 9,
   "id": "67d85ea0-f27c-44a1-ad44-a1f0de79f843",
   "metadata": {},
   "outputs": [],
   "source": [
    "cesc=bill(900,\"20/03/2023\")"
   ]
  },
  {
   "cell_type": "code",
   "execution_count": 10,
   "id": "59db0b87-744e-450e-9afe-78d0ce5bf2e3",
   "metadata": {},
   "outputs": [
    {
     "data": {
      "text/plain": [
       "(900, '20/03/2023')"
      ]
     },
     "execution_count": 10,
     "metadata": {},
     "output_type": "execute_result"
    }
   ],
   "source": [
    "cesc.return_bill()"
   ]
  },
  {
   "cell_type": "markdown",
   "id": "9b734128-d68f-4592-9a33-cb715c3bcbc8",
   "metadata": {},
   "source": [
    "## Q5. What is inheritance? Give an example for each type of inheritance.\n"
   ]
  },
  {
   "cell_type": "markdown",
   "id": "0d1c1ce6-15f2-4324-91f4-184908369954",
   "metadata": {},
   "source": [
    "Ans: Inheritance is a mechanism in object-oriented programming (OOP) that allows a new class to be derived from an existing class. The derived class inherits all the attributes and behaviors of the parent class and can also have its own attributes and behaviors. Inheritance enables code reuse and makes it easier to create and maintain large, complex systems."
   ]
  },
  {
   "cell_type": "code",
   "execution_count": 2,
   "id": "c9712469-d7b6-4aec-a0c3-e2ebb70cfd2e",
   "metadata": {},
   "outputs": [],
   "source": [
    "class car:\n",
    "    def __init__(self,car_model,price):\n",
    "        self.car_modeel=car_model\n",
    "        self.price=price\n",
    "    def msg(self):\n",
    "        print(\"congrats for your car\")\n",
    "class owner(car):\n",
    "    def __init__(self,name):\n",
    "        car.__init__(self,\"Owner\",9000000)\n",
    "        self.name=name\n",
    "        "
   ]
  },
  {
   "cell_type": "code",
   "execution_count": 4,
   "id": "a695c975-8889-4527-b28b-43731f9cc539",
   "metadata": {},
   "outputs": [],
   "source": [
    "owner=owner(\"SWagata\")"
   ]
  },
  {
   "cell_type": "code",
   "execution_count": 6,
   "id": "238682e3-bfe4-485c-aad0-4c03ff2cb492",
   "metadata": {},
   "outputs": [
    {
     "ename": "TypeError",
     "evalue": "'int' object is not callable",
     "output_type": "error",
     "traceback": [
      "\u001b[0;31m---------------------------------------------------------------------------\u001b[0m",
      "\u001b[0;31mTypeError\u001b[0m                                 Traceback (most recent call last)",
      "Cell \u001b[0;32mIn[6], line 1\u001b[0m\n\u001b[0;32m----> 1\u001b[0m \u001b[38;5;28mprint\u001b[39m(\u001b[43mowner\u001b[49m\u001b[38;5;241;43m.\u001b[39;49m\u001b[43mprice\u001b[49m\u001b[43m(\u001b[49m\u001b[43m)\u001b[49m)\n",
      "\u001b[0;31mTypeError\u001b[0m: 'int' object is not callable"
     ]
    }
   ],
   "source": [
    "print(owner.price())"
   ]
  },
  {
   "cell_type": "code",
   "execution_count": null,
   "id": "e67d160e-bb49-4f6f-b882-827a51224e78",
   "metadata": {},
   "outputs": [],
   "source": []
  }
 ],
 "metadata": {
  "kernelspec": {
   "display_name": "Python 3 (ipykernel)",
   "language": "python",
   "name": "python3"
  },
  "language_info": {
   "codemirror_mode": {
    "name": "ipython",
    "version": 3
   },
   "file_extension": ".py",
   "mimetype": "text/x-python",
   "name": "python",
   "nbconvert_exporter": "python",
   "pygments_lexer": "ipython3",
   "version": "3.10.8"
  }
 },
 "nbformat": 4,
 "nbformat_minor": 5
}
